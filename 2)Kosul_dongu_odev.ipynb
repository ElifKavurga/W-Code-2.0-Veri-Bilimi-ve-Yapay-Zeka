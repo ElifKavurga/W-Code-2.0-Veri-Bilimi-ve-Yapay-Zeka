{
 "cells": [
  {
   "cell_type": "markdown",
   "id": "409f0f4a",
   "metadata": {},
   "source": [
    "**Ödev-1:** Kullanıcıdan maaş bilgisini istenir ve bu bilgiye göre maaşından ne kadar vergi kesileceğini hesaplanır. Kullanıcının geliri;\n",
    "\n",
    "1. 10000 ve altındaysa maaşından %5 kesinti olur.\n",
    "2. 25000 ve altındaysa maaşından %10 kesinti olur.\n",
    "3. 45000 ve altındaysa maaşından %25 kesinti olur.\n",
    "4. Diğer koşullarda %30 kesinti olur.\n",
    "\n",
    "Bu durumlara göre kullanıcının yeni maaşı yazdırılır."
   ]
  },
  {
   "cell_type": "code",
   "execution_count": 4,
   "id": "5246e510",
   "metadata": {},
   "outputs": [
    {
     "name": "stdin",
     "output_type": "stream",
     "text": [
      "Maasinizi giriniz 2000\n"
     ]
    },
    {
     "name": "stdout",
     "output_type": "stream",
     "text": [
      "Son maasiniz = 1800.0 tl\n"
     ]
    }
   ],
   "source": [
    "maas = float(input(\"Maasinizi giriniz\"))\n",
    "\n",
    "if maas <= 1000:\n",
    "    vergiOrani=0.05\n",
    "elif maas <= 2500:\n",
    "    vergiOrani=0.1\n",
    "elif maas <= 4500:\n",
    "    vergiOrani=0.25\n",
    "else:\n",
    "    vergiOrani=0.30\n",
    "\n",
    "vergi = maas*vergiOrani\n",
    "sonMaas = maas-vergi\n",
    "\n",
    "print(f\"Son maasiniz = {sonMaas} tl\")\n"
   ]
  },
  {
   "cell_type": "markdown",
   "id": "f5fe8798",
   "metadata": {},
   "source": [
    "**Ödev-2:** Kullanıcıdan kullanıcı adı ve şifre oluşturmasını istenir. Şifrenin uzunluğu altı haneye ulaşmışsa hesabınız oluşturuldu mesajı alınır, altı haneden azsa altı haneli şifre oluşturması gerektiğinin mesajı alınır. *(Sadece koşul kullanılması yeterli.)*"
   ]
  },
  {
   "cell_type": "code",
   "execution_count": 6,
   "id": "6acffe57",
   "metadata": {},
   "outputs": [
    {
     "name": "stdin",
     "output_type": "stream",
     "text": [
      "Kullanici adinizi giriniz= The'Elff\n",
      "Sifrenizi giriniz= 1234\n"
     ]
    },
    {
     "name": "stdout",
     "output_type": "stream",
     "text": [
      "Sifreniz en az 6 karakterden olusmalidir\n"
     ]
    }
   ],
   "source": [
    "kullaniciAdi = input(\"Kullanici adinizi giriniz=\")\n",
    "sifre = input(\"Sifrenizi giriniz=\")\n",
    "\n",
    "if len(sifre) >= 6:\n",
    "    print(\"Hesabiniz olusturuldu\")\n",
    "else:\n",
    "    print(\"Sifreniz en az 6 karakterden olusmalidir\")"
   ]
  },
  {
   "cell_type": "markdown",
   "id": "aaccf11a",
   "metadata": {},
   "source": [
    "**Ödev-3:** Bir önceki örnek geliştirilir.\n",
    "\n",
    "1. Kullanıcı girdiği şifre 5 ve 10 hane arasında olmak zorunda.\n",
    "2. Eğer bu koşula uyuyorsa \"Hesabınız oluşturuldu.\" mesajı alır.\n",
    "3. Koşulu sağlamıyorsa \"Lütfen girdiniz şifre 5 haneden az 10 haneden fazla olmasın!\" uyarısı alır.\n",
    "4. Bunu oluştururken kullanıcı istediğimiz şartlarda şifre oluşturana kadar sormaya devam eder"
   ]
  },
  {
   "cell_type": "code",
   "execution_count": 7,
   "id": "039e50dc",
   "metadata": {},
   "outputs": [
    {
     "name": "stdin",
     "output_type": "stream",
     "text": [
      "Kullanici adinizi giriniz= The'Elff\n",
      "Sifrenizi giriniz 123\n"
     ]
    },
    {
     "name": "stdout",
     "output_type": "stream",
     "text": [
      "Lutfen girdiginiz sifre 5 haneden az 10 haneden fazla olmasin!\n"
     ]
    },
    {
     "name": "stdin",
     "output_type": "stream",
     "text": [
      "Sifrenizi giriniz 12345678910\n"
     ]
    },
    {
     "name": "stdout",
     "output_type": "stream",
     "text": [
      "Lutfen girdiginiz sifre 5 haneden az 10 haneden fazla olmasin!\n"
     ]
    },
    {
     "name": "stdin",
     "output_type": "stream",
     "text": [
      "Sifrenizi giriniz 1234567\n"
     ]
    },
    {
     "name": "stdout",
     "output_type": "stream",
     "text": [
      "Hesabiniz olusturuldu\n"
     ]
    }
   ],
   "source": [
    "kullaniciAdi = input(\"Kullanici adinizi giriniz=\")\n",
    "\n",
    "while True:\n",
    "    sifre = input(\"Sifrenizi giriniz\")\n",
    "    if 5 <= len(sifre) <= 10:\n",
    "        print(\"Hesabiniz olusturuldu\")\n",
    "        break\n",
    "    else: \n",
    "        print(\"Lutfen girdiginiz sifre 5 haneden az 10 haneden fazla olmasin!\")"
   ]
  },
  {
   "cell_type": "markdown",
   "id": "8ba81863",
   "metadata": {},
   "source": [
    "**Ödev-4:** Kullanıcıdan isim ve şifre isteyeceğiz ve şifre girişi için üç hak verilir.\n",
    "\n",
    "1. Eğer önceden tanımlı şifre ile kullanıcıdan gelen şifre aynıysa \"Giriş yapıldı.\" yazar.\n",
    "2. Şifre girişi yanlışsa \"Yanlış şifre girildi!\" uyarısı verilsin ve üç yanlış denemede program biter.\n",
    "3. Tercihe göre kalan hak bilgisi verilir."
   ]
  },
  {
   "cell_type": "code",
   "execution_count": 8,
   "id": "8f45ea0c",
   "metadata": {},
   "outputs": [
    {
     "name": "stdin",
     "output_type": "stream",
     "text": [
      "Isminizi giriniz Elif\n",
      "Sifrenizi giriniz= 12\n"
     ]
    },
    {
     "name": "stdout",
     "output_type": "stream",
     "text": [
      "Yanlis sifre! Kalan hakknız=2\n"
     ]
    },
    {
     "name": "stdin",
     "output_type": "stream",
     "text": [
      "Sifrenizi giriniz= 3256\n"
     ]
    },
    {
     "name": "stdout",
     "output_type": "stream",
     "text": [
      "Yanlis sifre! Kalan hakknız=1\n"
     ]
    },
    {
     "name": "stdin",
     "output_type": "stream",
     "text": [
      "Sifrenizi giriniz= 12345\n"
     ]
    },
    {
     "name": "stdout",
     "output_type": "stream",
     "text": [
      "Giris Yapildi\n"
     ]
    }
   ],
   "source": [
    "sifre = \"12345\"\n",
    "hak = 3\n",
    "\n",
    "isim = input(\"Isminizi giriniz\")\n",
    "\n",
    "while hak > 0:\n",
    "    girilenSifre = input(\"Sifrenizi giriniz=\")\n",
    "    if girilenSifre==sifre:\n",
    "        print(\"Giris Yapildi\")\n",
    "        break\n",
    "    else:\n",
    "        hak-=1\n",
    "        if hak == 0:\n",
    "            print(\"Hakkiniz bitmistir\")\n",
    "        else: \n",
    "            print(f\"Yanlis sifre! Kalan hakknız={hak}\")"
   ]
  },
  {
   "cell_type": "code",
   "execution_count": null,
   "id": "8dbf6a9a-0c6e-4ad0-89dd-62815ee0b14c",
   "metadata": {},
   "outputs": [],
   "source": []
  }
 ],
 "metadata": {
  "kernelspec": {
   "display_name": "Python 3 (ipykernel)",
   "language": "python",
   "name": "python3"
  },
  "language_info": {
   "codemirror_mode": {
    "name": "ipython",
    "version": 3
   },
   "file_extension": ".py",
   "mimetype": "text/x-python",
   "name": "python",
   "nbconvert_exporter": "python",
   "pygments_lexer": "ipython3",
   "version": "3.13.5"
  }
 },
 "nbformat": 4,
 "nbformat_minor": 5
}
