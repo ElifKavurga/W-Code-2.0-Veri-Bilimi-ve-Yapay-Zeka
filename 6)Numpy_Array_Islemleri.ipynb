{
 "cells": [
  {
   "cell_type": "markdown",
   "id": "09e8c90a-478f-4bcb-b77e-3f747ef61890",
   "metadata": {},
   "source": [
    "1.Sayılardan oluşan bir boyutlu array oluşturun. Arrayi oluştururken sayıların veri tipini integer olarak belirtelim. \n",
    "-> Oluşturulan arrayin boyut, eleman sayısı bilgilerine bakalım."
   ]
  },
  {
   "cell_type": "code",
   "execution_count": 2,
   "id": "5e1cba86-7553-4fbd-9f84-45fdbfe3f8ad",
   "metadata": {},
   "outputs": [
    {
     "name": "stdout",
     "output_type": "stream",
     "text": [
      "Arrayin tipi=int64\n",
      "Arrayin boyutu=1\n",
      "Arrayin eleman sayisi=5\n"
     ]
    }
   ],
   "source": [
    "import numpy as np\n",
    "\n",
    "array = np.array([1,2,3,4,5],dtype=\"int\")\n",
    "print(f\"Arrayin tipi={array.dtype}\")\n",
    "print(f\"Arrayin boyutu={array.ndim}\")\n",
    "print(f\"Arrayin eleman sayisi={array.size}\")"
   ]
  },
  {
   "cell_type": "raw",
   "id": "14b5c70f-eafc-4227-b46a-0c11cc8c335b",
   "metadata": {},
   "source": [
    "2.Aşağıda verilen iki boyutlu ve üç boyutlu arrayi oluşturalım. Bu arraylerin boyut, eleman sayısı, satır, sütun bilgilerine ulaşalım.\n",
    "\n",
    "İki boyutlu array:\n",
    "[[1,2,6,7],\n",
    "[4,3,9,5]]\n",
    "\n",
    "Üç boyutlu array:\n",
    "[[[7,5,14],[21,8,11]],\n",
    "[[8,6,20],[14,3,9]]]"
   ]
  },
  {
   "cell_type": "code",
   "execution_count": 7,
   "id": "f3309735-8627-46da-9bcb-d21344798a90",
   "metadata": {},
   "outputs": [
    {
     "name": "stdout",
     "output_type": "stream",
     "text": [
      "Iki Boyutlu Array\n",
      "Tipi=int64\n",
      "Boyutu (ndim)=2\n",
      "Shape (satir, sutun)=(2, 4)\n",
      "Eleman sayisi=8\n",
      "Satir sayisi=2\n",
      "Sutun sayisi=4\n",
      "\n",
      "Uc Boyutlu Array\n",
      "Tipi=int64\n",
      "Boyutu (ndim)=3\n",
      "Shape (katman, satir, sutun)=(2, 2, 3)\n",
      "Eleman sayisi=12\n",
      "Katman sayisi=2\n",
      "Satir sayisi (her katmanda)=2\n",
      "Sutun sayisi (her satirda)=3\n"
     ]
    }
   ],
   "source": [
    "import numpy as np\n",
    "\n",
    "array2d = np.array([[1,2,6,7],\n",
    "                    [4,3,9,5]])\n",
    "\n",
    "print(\"Iki Boyutlu Array\")\n",
    "print(f\"Tipi={array2d.dtype}\")\n",
    "print(f\"Boyutu (ndim)={array2d.ndim}\")\n",
    "print(f\"Shape (satir, sutun)={array2d.shape}\")\n",
    "print(f\"Eleman sayisi={array2d.size}\")\n",
    "print(f\"Satir sayisi={array2d.shape[0]}\")\n",
    "print(f\"Sutun sayisi={array2d.shape[1]}\")\n",
    "\n",
    "array3d = np.array([[[7,5,14],[21,8,11]],\n",
    "                    [[8,6,20],[14,3,9]]])\n",
    "\n",
    "print(\"\\nUc Boyutlu Array\")\n",
    "print(f\"Tipi={array3d.dtype}\")\n",
    "print(f\"Boyutu (ndim)={array3d.ndim}\")\n",
    "print(f\"Shape (katman, satir, sutun)={array3d.shape}\")\n",
    "print(f\"Eleman sayisi={array3d.size}\")\n",
    "print(f\"Katman sayisi={array3d.shape[0]}\")\n",
    "print(f\"Satir sayisi (her katmanda)={array3d.shape[1]}\")\n",
    "print(f\"Sutun sayisi (her satirda)={array3d.shape[2]}\")"
   ]
  },
  {
   "cell_type": "markdown",
   "id": "b1c8d2b9-a92d-4f43-b7e8-21cd9c624460",
   "metadata": {},
   "source": [
    "3.İstenilen elamanlara ulaşmak için arrayler üzerinde indexleme işlemi yapalım.\n",
    "\n",
    "İki boyutlu arraydaki 2 elemanına ulaşalım.\n",
    "\n",
    "İki boyutlu arraydaki 7 elemanına ulaşalım.\n",
    "\n",
    "Üç boyutlu arraydaki 9 elemanına ulaşalım.\n",
    "\n",
    "Üç boyutlu arraydaki 5 elemanına ulaşalım."
   ]
  },
  {
   "cell_type": "code",
   "execution_count": 10,
   "id": "89597d70-7462-411a-972c-b08928f22a8b",
   "metadata": {},
   "outputs": [
    {
     "name": "stdout",
     "output_type": "stream",
     "text": [
      "2D arraydeki 2= 2\n",
      "2D arraydeki 7= 7\n",
      "3D arraydeki 9= 9\n",
      "3D arraydeki 5= 5\n"
     ]
    }
   ],
   "source": [
    "import numpy as np\n",
    "\n",
    "arr2=np.array([[1,2,6,7],[4,3,9,5]])\n",
    "\n",
    "arr3=np.array([[[7,5,14],[21,8,11]],[[8,6,20],[14,3,9]]])\n",
    "\n",
    "print(\"2D arraydeki 2=\",arr2[0][1])\n",
    "print(\"2D arraydeki 7=\",arr2[0][3])\n",
    "\n",
    "print(\"3D arraydeki 9=\",arr3[1][1][2])\n",
    "print(\"3D arraydeki 5=\",arr3[0][0][1])"
   ]
  },
  {
   "cell_type": "markdown",
   "id": "14acdf1c-7123-4578-9619-7742a7530ea7",
   "metadata": {},
   "source": [
    "4.Arrayler üzerinde slicing işlemi uygulayalım.\n",
    "\n",
    "İki boyutlu arraydaki 2,6 elemanlarına ulaşalım.\n",
    "\n",
    "İki boyutlu arraydaki 3,9,5 elemanlarına ulaşalım.\n",
    "\n",
    "Üç boyutlu arraydaki 21,8,11 elemanlarına ulaşalım.\n",
    "\n",
    "Üç boyutlu arraydaki 6,20 elemanlarına ulaşalım."
   ]
  },
  {
   "cell_type": "code",
   "execution_count": 9,
   "id": "e1ae8b26-348b-407f-8617-deba7d64e885",
   "metadata": {},
   "outputs": [
    {
     "name": "stdout",
     "output_type": "stream",
     "text": [
      "2D arraydeki 2,6= [2 6]\n",
      "2D arraydeki 3,9,5= [3 9 5]\n",
      "3D arraydeki 21,8,11= [21  8 11]\n",
      "3D arraydeki 6,20= [ 6 20]\n"
     ]
    }
   ],
   "source": [
    "import numpy as np\n",
    "\n",
    "arr2=np.array([[1,2,6,7],[4,3,9,5]])\n",
    "\n",
    "arr3=np.array([[[7,5,14],[21,8,11]],[[8,6,20],[14,3,9]]])\n",
    "\n",
    "print(\"2D arraydeki 2,6=\",arr2[0,1:3])      \n",
    "print(\"2D arraydeki 3,9,5=\",arr2[1,1:4])  \n",
    "\n",
    "print(\"3D arraydeki 21,8,11=\",arr3[0,1,:])\n",
    "print(\"3D arraydeki 6,20=\",arr3[1,0,1:3]) "
   ]
  },
  {
   "cell_type": "markdown",
   "id": "d2c8e86e-7e0d-4a9c-9009-a42b430892ae",
   "metadata": {},
   "source": [
    "5. 5 satır 3 sütunluk sıfırlardan ve birlerden oluşan iki tane iki boyutlu array oluşturalım. Bu arrayleri satır ve sütun bazında birleştirelim."
   ]
  },
  {
   "cell_type": "code",
   "execution_count": 11,
   "id": "3516d5ce-3d99-48b1-924c-5ae665166dfe",
   "metadata": {},
   "outputs": [
    {
     "name": "stdout",
     "output_type": "stream",
     "text": [
      "Sifirlardan olusan array\n",
      "[[0 0 0]\n",
      " [0 0 0]\n",
      " [0 0 0]\n",
      " [0 0 0]\n",
      " [0 0 0]]\n",
      "\n",
      "Birlerden olusan array\n",
      "[[1 1 1]\n",
      " [1 1 1]\n",
      " [1 1 1]\n",
      " [1 1 1]\n",
      " [1 1 1]]\n",
      "Satirlarin birlestirildigi durum\n",
      "[[0 0 0]\n",
      " [0 0 0]\n",
      " [0 0 0]\n",
      " [0 0 0]\n",
      " [0 0 0]\n",
      " [1 1 1]\n",
      " [1 1 1]\n",
      " [1 1 1]\n",
      " [1 1 1]\n",
      " [1 1 1]]\n",
      "\n",
      "Sutunlarin birlestirildigi durum\n",
      "[[0 0 0 1 1 1]\n",
      " [0 0 0 1 1 1]\n",
      " [0 0 0 1 1 1]\n",
      " [0 0 0 1 1 1]\n",
      " [0 0 0 1 1 1]]\n",
      "\n"
     ]
    }
   ],
   "source": [
    "import numpy as np\n",
    "\n",
    "sifirlar = np.zeros((5,3),dtype=\"int\")\n",
    "birler = np.ones((5,3),dtype=\"int\")\n",
    "\n",
    "print(f\"Sifirlardan olusan array\\n{sifirlar}\")\n",
    "print(f\"\\nBirlerden olusan array\\n{birler}\")\n",
    "\n",
    "satir_birlestirmesi = np.concatenate([sifirlar,birler])\n",
    "print(f\"Satirlarin birlestirildigi durum\\n{satir_birlestirmesi}\\n\")\n",
    "\n",
    "sutun_birlestirmesi = np.concatenate([sifirlar,birler],axis=1)\n",
    "print(f\"Sutunlarin birlestirildigi durum\\n{sutun_birlestirmesi}\\n\")\n"
   ]
  },
  {
   "cell_type": "code",
   "execution_count": null,
   "id": "9b439329-e6f3-4fe5-aac7-c46ba6279dd1",
   "metadata": {},
   "outputs": [],
   "source": []
  }
 ],
 "metadata": {
  "kernelspec": {
   "display_name": "Python 3 (ipykernel)",
   "language": "python",
   "name": "python3"
  },
  "language_info": {
   "codemirror_mode": {
    "name": "ipython",
    "version": 3
   },
   "file_extension": ".py",
   "mimetype": "text/x-python",
   "name": "python",
   "nbconvert_exporter": "python",
   "pygments_lexer": "ipython3",
   "version": "3.13.5"
  }
 },
 "nbformat": 4,
 "nbformat_minor": 5
}
