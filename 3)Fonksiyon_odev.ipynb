{
 "cells": [
  {
   "cell_type": "markdown",
   "metadata": {},
   "source": [
    "#### Ödev 1\n",
    "Kullanıcıdan pi değeri ve yarıçap bilgisi alarak dairenin alanını hesaplayan bir fonksiyon oluşturulur."
   ]
  },
  {
   "cell_type": "code",
   "execution_count": 1,
   "metadata": {
    "vscode": {
     "languageId": "plaintext"
    }
   },
   "outputs": [
    {
     "name": "stdin",
     "output_type": "stream",
     "text": [
      "Pi degerini giriniz= 3\n",
      "Yaricap degerini giriniz=  2\n"
     ]
    },
    {
     "name": "stdout",
     "output_type": "stream",
     "text": [
      "Dairenizin alani = 12.0\n"
     ]
    }
   ],
   "source": [
    "def alanHesapla(pi,yaricap):\n",
    "    alan = pi*yaricap*yaricap\n",
    "    return alan\n",
    "\n",
    "pi = float(input(\"Pi degerini giriniz=\"))\n",
    "yaricap = float(input(\"Yaricap degerini giriniz= \"))\n",
    "alan = alanHesapla(pi,yaricap)\n",
    "print(f\"Dairenizin alani = {alan}\")"
   ]
  },
  {
   "cell_type": "markdown",
   "metadata": {},
   "source": [
    "#### Ödev 2\n",
    "\n",
    "Faktöriyel adında fonksiyon oluşturulur. Döngü kullanarak parametre olarak girilen sayının faktöriyeli hesaplanır. Format metodunu kullanılarak ekrana yazdırılır."
   ]
  },
  {
   "cell_type": "code",
   "execution_count": 7,
   "metadata": {
    "vscode": {
     "languageId": "plaintext"
    }
   },
   "outputs": [
    {
     "name": "stdin",
     "output_type": "stream",
     "text": [
      "Faktoriyelini almak istediginiz sayiyi giriniz= 5\n"
     ]
    },
    {
     "name": "stdout",
     "output_type": "stream",
     "text": [
      "Girdiginiz sayinin faktoriyeli 120'dir\n"
     ]
    }
   ],
   "source": [
    "def faktoriyel(sayi):\n",
    "    fakto = 1\n",
    "    while sayi > 1:\n",
    "        fakto *= sayi\n",
    "        sayi -= 1\n",
    "    return fakto\n",
    "\n",
    "sayi = int(input(\"Faktoriyelini almak istediginiz sayiyi giriniz=\"))\n",
    "fakto = faktoriyel(sayi)\n",
    "\n",
    "print(\"Girdiginiz sayinin faktoriyeli {}'dir\".format(fakto))\n"
   ]
  },
  {
   "cell_type": "markdown",
   "metadata": {},
   "source": [
    "#### Ödev 3\n",
    "Kişinin fonksiyona doğum yılını vererek kaç yaşında olduğunu hesaplayan bir fonksiyon oluşturun. "
   ]
  },
  {
   "cell_type": "code",
   "execution_count": 9,
   "metadata": {
    "vscode": {
     "languageId": "plaintext"
    }
   },
   "outputs": [
    {
     "name": "stdin",
     "output_type": "stream",
     "text": [
      "Bulundugunuz yili giriniz= 2025\n",
      "Dogum yilinizi giriniz= 2004\n"
     ]
    },
    {
     "name": "stdout",
     "output_type": "stream",
     "text": [
      "Suanki yasınız 21\n"
     ]
    }
   ],
   "source": [
    "def yasHesapla(dogumYili,simdikiYil):\n",
    "    yas = simdikiYil - dogumYili \n",
    "    return yas\n",
    "\n",
    "simdikiYil = int(input(\"Bulundugunuz yili giriniz=\"))\n",
    "dogumYili = int(input(\"Dogum yilinizi giriniz=\"))\n",
    "\n",
    "yas = yasHesapla(dogumYili,simdikiYil)\n",
    "\n",
    "print(f\"Suanki yasınız {yas}\")"
   ]
  },
  {
   "cell_type": "markdown",
   "metadata": {},
   "source": [
    "#### Ödev 4\n",
    "\n",
    "Doğum yılı ve isim bilgisi verilen fonksiyon kişinin emekli olup olmadığını söylesin.(Kişi 65 yaşında ise emekli olur.) Burada yaş hesabını yukarıdaki örnekteki fonksiyonu kullanarak yapsın.(Yani fonksiyon içinde fonksiyon kullanmanızı istiyorum :)) Kişi 65 yaşında ya da daha fazlaysa \"Emekli oldunuz\" yanıtını, 65 yaşından küçükse emekliliğine kaç yıl kaldığını da hesaplayarak \"(isim) emekliliğine (yıl) kaldı.\" yanıtını versin."
   ]
  },
  {
   "cell_type": "code",
   "execution_count": 12,
   "metadata": {
    "vscode": {
     "languageId": "plaintext"
    }
   },
   "outputs": [
    {
     "name": "stdin",
     "output_type": "stream",
     "text": [
      "Bulundugunuz yili giriniz= 2025\n",
      "Dogum yilinizi giriniz= 2004\n"
     ]
    },
    {
     "name": "stdout",
     "output_type": "stream",
     "text": [
      "Emekliliginiz 44 kalmistir\n"
     ]
    }
   ],
   "source": [
    "def yasHesapla(dogumYili,simdikiYil):\n",
    "    yas = simdikiYil - dogumYili \n",
    "    return yas\n",
    "\n",
    "simdikiYil = int(input(\"Bulundugunuz yili giriniz=\"))\n",
    "dogumYili = int(input(\"Dogum yilinizi giriniz=\"))\n",
    "\n",
    "yas = yasHesapla(dogumYili,simdikiYil)\n",
    "\n",
    "emeklilikHesapla(yas)\n",
    "\n",
    "def emeklilikHesapla(yas):\n",
    "    if(yas<65):\n",
    "        yil = 65 - yas\n",
    "        print(f\"Emekliliginiz {yil} kalmistir\")\n",
    "    else:\n",
    "        print(\"Emekli Oldunuz\")\n",
    "        "
   ]
  },
  {
   "cell_type": "code",
   "execution_count": null,
   "metadata": {},
   "outputs": [],
   "source": []
  }
 ],
 "metadata": {
  "kernelspec": {
   "display_name": "Python 3 (ipykernel)",
   "language": "python",
   "name": "python3"
  },
  "language_info": {
   "codemirror_mode": {
    "name": "ipython",
    "version": 3
   },
   "file_extension": ".py",
   "mimetype": "text/x-python",
   "name": "python",
   "nbconvert_exporter": "python",
   "pygments_lexer": "ipython3",
   "version": "3.13.5"
  }
 },
 "nbformat": 4,
 "nbformat_minor": 4
}
