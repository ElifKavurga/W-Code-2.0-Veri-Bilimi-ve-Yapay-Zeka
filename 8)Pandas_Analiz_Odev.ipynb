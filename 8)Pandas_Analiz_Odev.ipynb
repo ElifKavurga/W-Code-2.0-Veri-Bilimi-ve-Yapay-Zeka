{
 "cells": [
  {
   "cell_type": "code",
   "execution_count": 2,
   "id": "33ee41d8",
   "metadata": {},
   "outputs": [],
   "source": [
    "import pandas as pd\n",
    "import matplotlib.pyplot as plt\n",
    "import seaborn as sns"
   ]
  },
  {
   "cell_type": "code",
   "execution_count": 3,
   "id": "a68051e2",
   "metadata": {},
   "outputs": [
    {
     "data": {
      "text/html": [
       "<div>\n",
       "<style scoped>\n",
       "    .dataframe tbody tr th:only-of-type {\n",
       "        vertical-align: middle;\n",
       "    }\n",
       "\n",
       "    .dataframe tbody tr th {\n",
       "        vertical-align: top;\n",
       "    }\n",
       "\n",
       "    .dataframe thead th {\n",
       "        text-align: right;\n",
       "    }\n",
       "</style>\n",
       "<table border=\"1\" class=\"dataframe\">\n",
       "  <thead>\n",
       "    <tr style=\"text-align: right;\">\n",
       "      <th></th>\n",
       "      <th>gender</th>\n",
       "      <th>race/ethnicity</th>\n",
       "      <th>parental level of education</th>\n",
       "      <th>lunch</th>\n",
       "      <th>test preparation course</th>\n",
       "      <th>math score</th>\n",
       "      <th>reading score</th>\n",
       "      <th>writing score</th>\n",
       "    </tr>\n",
       "  </thead>\n",
       "  <tbody>\n",
       "    <tr>\n",
       "      <th>0</th>\n",
       "      <td>female</td>\n",
       "      <td>group B</td>\n",
       "      <td>bachelor's degree</td>\n",
       "      <td>standard</td>\n",
       "      <td>none</td>\n",
       "      <td>72</td>\n",
       "      <td>72</td>\n",
       "      <td>74</td>\n",
       "    </tr>\n",
       "    <tr>\n",
       "      <th>1</th>\n",
       "      <td>female</td>\n",
       "      <td>group C</td>\n",
       "      <td>some college</td>\n",
       "      <td>standard</td>\n",
       "      <td>completed</td>\n",
       "      <td>69</td>\n",
       "      <td>90</td>\n",
       "      <td>88</td>\n",
       "    </tr>\n",
       "    <tr>\n",
       "      <th>2</th>\n",
       "      <td>female</td>\n",
       "      <td>group B</td>\n",
       "      <td>master's degree</td>\n",
       "      <td>standard</td>\n",
       "      <td>none</td>\n",
       "      <td>90</td>\n",
       "      <td>95</td>\n",
       "      <td>93</td>\n",
       "    </tr>\n",
       "    <tr>\n",
       "      <th>3</th>\n",
       "      <td>male</td>\n",
       "      <td>group A</td>\n",
       "      <td>associate's degree</td>\n",
       "      <td>free/reduced</td>\n",
       "      <td>none</td>\n",
       "      <td>47</td>\n",
       "      <td>57</td>\n",
       "      <td>44</td>\n",
       "    </tr>\n",
       "    <tr>\n",
       "      <th>4</th>\n",
       "      <td>male</td>\n",
       "      <td>group C</td>\n",
       "      <td>some college</td>\n",
       "      <td>standard</td>\n",
       "      <td>none</td>\n",
       "      <td>76</td>\n",
       "      <td>78</td>\n",
       "      <td>75</td>\n",
       "    </tr>\n",
       "  </tbody>\n",
       "</table>\n",
       "</div>"
      ],
      "text/plain": [
       "   gender race/ethnicity parental level of education         lunch  \\\n",
       "0  female        group B           bachelor's degree      standard   \n",
       "1  female        group C                some college      standard   \n",
       "2  female        group B             master's degree      standard   \n",
       "3    male        group A          associate's degree  free/reduced   \n",
       "4    male        group C                some college      standard   \n",
       "\n",
       "  test preparation course  math score  reading score  writing score  \n",
       "0                    none          72             72             74  \n",
       "1               completed          69             90             88  \n",
       "2                    none          90             95             93  \n",
       "3                    none          47             57             44  \n",
       "4                    none          76             78             75  "
      ]
     },
     "execution_count": 3,
     "metadata": {},
     "output_type": "execute_result"
    }
   ],
   "source": [
    "#1\n",
    "df = pd.read_csv(\"StudentsPerformance.csv\")\n",
    "df.head()"
   ]
  },
  {
   "cell_type": "code",
   "execution_count": 4,
   "id": "d0ddb1a7",
   "metadata": {},
   "outputs": [
    {
     "name": "stdout",
     "output_type": "stream",
     "text": [
      "gender\n",
      "female    518\n",
      "male      482\n",
      "Name: count, dtype: int64\n"
     ]
    }
   ],
   "source": [
    "#2\n",
    "#kadın-erkek sayısına bakalım\n",
    "gender_counts = df[\"gender\"].value_counts()\n",
    "print(gender_counts)"
   ]
  },
  {
   "cell_type": "code",
   "execution_count": 5,
   "id": "4810eaaf",
   "metadata": {},
   "outputs": [
    {
     "data": {
      "image/png": "[encoded data removed]",
      "text/plain": [
       "<Figure size 600x400 with 1 Axes>"
      ]
     },
     "metadata": {},
     "output_type": "display_data"
    }
   ],
   "source": [
    "#3\n",
    "#kadın-erkek sayısına histogram grafiği ile bakalım\n",
    "\n",
    "plt.figure(figsize=(6,4))\n",
    "df[\"gender\"].value_counts().plot(kind=\"bar\", color=[\"skyblue\", \"lightcoral\"])\n",
    "plt.title(\"Cinsiyet Dağılımı\")\n",
    "plt.xlabel(\"Cinsiyet\")\n",
    "plt.ylabel(\"Öğrenci Sayısı\")\n",
    "plt.show()"
   ]
  },
  {
   "cell_type": "code",
   "execution_count": 6,
   "id": "0ddc0277",
   "metadata": {},
   "outputs": [],
   "source": [
    "#4\n",
    "#race/ethnicity sütununda kaç farklı grup olduğuna bakalım"
   ]
  },
  {
   "cell_type": "code",
   "execution_count": 7,
   "id": "dceebc62",
   "metadata": {},
   "outputs": [
    {
     "data": {
      "text/plain": [
       "race/ethnicity\n",
       "group C    319\n",
       "group D    262\n",
       "group B    190\n",
       "group E    140\n",
       "group A     89\n",
       "Name: count, dtype: int64"
      ]
     },
     "execution_count": 7,
     "metadata": {},
     "output_type": "execute_result"
    }
   ],
   "source": [
    "race = df[\"race/ethnicity\"].value_counts()\n",
    "race"
   ]
  },
  {
   "cell_type": "code",
   "execution_count": 8,
   "id": "238e8a54",
   "metadata": {},
   "outputs": [
    {
     "data": {
      "image/png": "[encoded data removed]",
      "text/plain": [
       "<Figure size 600x400 with 1 Axes>"
      ]
     },
     "metadata": {},
     "output_type": "display_data"
    }
   ],
   "source": [
    "#5\n",
    "#yukarıda bulduğumuzu görselleştirelim\n",
    "plt.figure(figsize=(6,4))\n",
    "df[\"race/ethnicity\"].value_counts().plot(kind=\"bar\", color=\"lightgreen\")\n",
    "plt.title(\"Race/Ethnicity Dağılımı\")\n",
    "plt.xlabel(\"Race/Ethnicity\")\n",
    "plt.ylabel(\"Öğrenci Sayısı\")\n",
    "plt.show()"
   ]
  },
  {
   "cell_type": "code",
   "execution_count": 9,
   "id": "f853caba",
   "metadata": {},
   "outputs": [
    {
     "name": "stdout",
     "output_type": "stream",
     "text": [
      "[\"bachelor's degree\" 'some college' \"master's degree\" \"associate's degree\"\n",
      " 'high school' 'some high school']\n"
     ]
    }
   ],
   "source": [
    "#6\n",
    "#parental level of education sütunundaki eşsiz değerleri bulalım\n",
    "unique_parent_edu = df[\"parental level of education\"].unique()\n",
    "print(unique_parent_edu)\n"
   ]
  },
  {
   "cell_type": "code",
   "execution_count": 10,
   "id": "5adac7c8",
   "metadata": {},
   "outputs": [
    {
     "data": {
      "text/plain": [
       "parental level of education\n",
       "some college          226\n",
       "associate's degree    222\n",
       "high school           196\n",
       "some high school      179\n",
       "bachelor's degree     118\n",
       "master's degree        59\n",
       "Name: count, dtype: int64"
      ]
     },
     "execution_count": 10,
     "metadata": {},
     "output_type": "execute_result"
    }
   ],
   "source": [
    "df[\"parental level of education\"].value_counts()"
   ]
  },
  {
   "cell_type": "code",
   "execution_count": 11,
   "id": "ed8a3d98",
   "metadata": {},
   "outputs": [
    {
     "name": "stdout",
     "output_type": "stream",
     "text": [
      "['standard' 'free/reduced']\n"
     ]
    }
   ],
   "source": [
    "#7\n",
    "#lunch sütununda eşsiz değerlere ulaşalım\n",
    "unique_lunch = df[\"lunch\"].unique()\n",
    "print(unique_lunch)"
   ]
  },
  {
   "cell_type": "code",
   "execution_count": 12,
   "id": "5e482872",
   "metadata": {},
   "outputs": [
    {
     "name": "stdout",
     "output_type": "stream",
     "text": [
      "lunch\n",
      "standard        645\n",
      "free/reduced    355\n",
      "Name: count, dtype: int64\n"
     ]
    }
   ],
   "source": [
    "#8\n",
    "#lunch türlerinde kaçar kişi olduğunu bulalım\n",
    "lunch_counts = df[\"lunch\"].value_counts()\n",
    "print(lunch_counts)"
   ]
  },
  {
   "cell_type": "code",
   "execution_count": 13,
   "id": "266cf2a8",
   "metadata": {},
   "outputs": [
    {
     "data": {
      "text/plain": [
       "test preparation course\n",
       "none         642\n",
       "completed    358\n",
       "Name: count, dtype: int64"
      ]
     },
     "execution_count": 13,
     "metadata": {},
     "output_type": "execute_result"
    }
   ],
   "source": [
    "df[\"test preparation course\"].value_counts()"
   ]
  },
  {
   "cell_type": "code",
   "execution_count": 14,
   "id": "a781b74d",
   "metadata": {},
   "outputs": [
    {
     "name": "stdout",
     "output_type": "stream",
     "text": [
      "        math score  reading score  writing score\n",
      "gender                                          \n",
      "female   63.633205      72.608108      72.467181\n",
      "male     68.728216      65.473029      63.311203\n"
     ]
    }
   ],
   "source": [
    "#9\n",
    "#gender sütunundaki değerler için ortalama math score, reading score, writing score değerlerini bulalım.\n",
    "gender_means = df.groupby(\"gender\")[[\"math score\", \"reading score\", \"writing score\"]].mean()\n",
    "print(gender_means)"
   ]
  },
  {
   "cell_type": "code",
   "execution_count": 15,
   "id": "21baad42",
   "metadata": {},
   "outputs": [
    {
     "name": "stdout",
     "output_type": "stream",
     "text": [
      "                math score  reading score  writing score\n",
      "race/ethnicity                                          \n",
      "group A          61.629213      64.674157      62.674157\n",
      "group B          63.452632      67.352632      65.600000\n",
      "group C          64.463950      69.103448      67.827586\n",
      "group D          67.362595      70.030534      70.145038\n",
      "group E          73.821429      73.028571      71.407143\n"
     ]
    }
   ],
   "source": [
    "#10\n",
    "#race/ethnicity sütunundaki değerler için ortalama math score, reading score, writing score değerlerini bulalım.\n",
    "race_means = df.groupby(\"race/ethnicity\")[[\"math score\", \"reading score\", \"writing score\"]].mean()\n",
    "print(race_means)"
   ]
  },
  {
   "cell_type": "code",
   "execution_count": 16,
   "id": "2b6515b8",
   "metadata": {},
   "outputs": [
    {
     "name": "stdout",
     "output_type": "stream",
     "text": [
      "                             math score  reading score  writing score\n",
      "parental level of education                                          \n",
      "associate's degree            67.882883      70.927928      69.896396\n",
      "bachelor's degree             69.389831      73.000000      73.381356\n",
      "high school                   62.137755      64.704082      62.448980\n",
      "master's degree               69.745763      75.372881      75.677966\n",
      "some college                  67.128319      69.460177      68.840708\n",
      "some high school              63.497207      66.938547      64.888268\n"
     ]
    }
   ],
   "source": [
    "#11\n",
    "#parental level of education sütunundaki değerler için ortalama math score, reading score, writing score değerlerini bulalım.\n",
    "parent_edu_means = df.groupby(\"parental level of education\")[[\"math score\", \"reading score\", \"writing score\"]].mean()\n",
    "print(parent_edu_means)"
   ]
  },
  {
   "cell_type": "code",
   "execution_count": 17,
   "id": "0fef018d",
   "metadata": {},
   "outputs": [
    {
     "name": "stdout",
     "output_type": "stream",
     "text": [
      "              math score  reading score  writing score\n",
      "lunch                                                 \n",
      "free/reduced   58.921127      64.653521      63.022535\n",
      "standard       70.034109      71.654264      70.823256\n"
     ]
    }
   ],
   "source": [
    "#12\n",
    "#lunch sütunundaki değerler için ortalama math score, reading score, writing score değerlerini bulalım.\n",
    "lunch_means = df.groupby(\"lunch\")[[\"math score\", \"reading score\", \"writing score\"]].mean()\n",
    "print(lunch_means)"
   ]
  },
  {
   "cell_type": "code",
   "execution_count": 18,
   "id": "b3cd6869",
   "metadata": {},
   "outputs": [
    {
     "name": "stdout",
     "output_type": "stream",
     "text": [
      "                         math score  reading score  writing score\n",
      "test preparation course                                          \n",
      "completed                 69.695531      73.893855      74.418994\n",
      "none                      64.077882      66.534268      64.504673\n"
     ]
    }
   ],
   "source": [
    "#13\n",
    "#test preparation coursesütunundaki değerler için ortalama math score, reading score, writing score değerlerini bulalım.\n",
    "prep_course_means = df.groupby(\"test preparation course\")[[\"math score\", \"reading score\", \"writing score\"]].mean()\n",
    "print(prep_course_means)"
   ]
  }
 ],
 "metadata": {
  "kernelspec": {
   "display_name": "base",
   "language": "python",
   "name": "python3"
  },
  "language_info": {
   "codemirror_mode": {
    "name": "ipython",
    "version": 3
   },
   "file_extension": ".py",
   "mimetype": "text/x-python",
   "name": "python",
   "nbconvert_exporter": "python",
   "pygments_lexer": "ipython3",
   "version": "3.13.5"
  }
 },
 "nbformat": 4,
 "nbformat_minor": 5
}
