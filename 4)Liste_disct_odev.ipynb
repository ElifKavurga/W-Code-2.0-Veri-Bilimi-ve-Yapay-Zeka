{
 "cells": [
  {
   "cell_type": "markdown",
   "metadata": {
    "id": "tE9ZjH5lQn2-"
   },
   "source": [
    "### Ödev 1\n",
    "\n",
    "liste = [\"Python\",True,9,\"3\",8.4,\"Hi-Kod\",\"False\",4.7]\n",
    "\n",
    "1. Aşağıdaki işlemleri indexing ve slicing kullanarak liste üzerinde uygulayın.\n",
    "\n",
    "   - \"3\" değerine ulaşmak için indexleme yapın.\n",
    "   - \"Hi-Kod\" değerine ulaşmak için indexleme yapın.\n",
    "   - 4.7 değerine ulaşmak için indexleme yapın.\n",
    "   - 9,\"3\",8.4,\"Hi-Kod\" değerlerine ulaşmak için slicing yapın.\n",
    "   - 8.4,\"Hi-Kod\",\"False\",4.7 değerlerine ulaşmak için slicing yapın."
   ]
  },
  {
   "cell_type": "code",
   "execution_count": 1,
   "metadata": {
    "id": "AhOkYXjIQn3E"
   },
   "outputs": [
    {
     "name": "stdout",
     "output_type": "stream",
     "text": [
      "3\n",
      "Hi-Kod\n",
      "4.7\n",
      "[9, '3', 8.4, 'Hi-Kod']\n",
      "[8.4, 'Hi-Kod', 'False', 4.7]\n"
     ]
    }
   ],
   "source": [
    "liste = [\"Python\",True,9,\"3\",8.4,\"Hi-Kod\",\"False\",4.7]\n",
    "\n",
    "print(liste[3])\n",
    "\n",
    "print(liste[5])\n",
    "\n",
    "print(liste[7])\n",
    "\n",
    "print(liste[2:6])\n",
    "\n",
    "print(liste[4:])"
   ]
  },
  {
   "cell_type": "markdown",
   "metadata": {
    "id": "PU_vatZVQn3E"
   },
   "source": [
    "### Ödev 2\n",
    "\n",
    "Verilen listede bulunan string veri tipindeki öğeleri yeni_liste isimli listeye eklenir.\n",
    "\n",
    "liste = [\"Python\",True,9,\"3\",8.4,\"Hi-Kod\",\"False\",4.7]"
   ]
  },
  {
   "cell_type": "code",
   "execution_count": 2,
   "metadata": {
    "id": "k036-a4qQn3F"
   },
   "outputs": [
    {
     "name": "stdout",
     "output_type": "stream",
     "text": [
      "['Python', '3', 'Hi-Kod', 'False']\n"
     ]
    }
   ],
   "source": [
    "liste = [\"Python\",True,9,\"3\",8.4,\"Hi-Kod\",\"False\",4.7]\n",
    "yeni_liste = []\n",
    "\n",
    "for i in liste:\n",
    "    if type(i) == str:\n",
    "        yeni_liste.append(i)\n",
    "\n",
    "print(yeni_liste)     "
   ]
  },
  {
   "cell_type": "markdown",
   "metadata": {
    "id": "LKspMidRQn3G"
   },
   "source": [
    "### Ödev 3\n",
    "\n",
    "Enumerate methodunu araştırın ve aşağıdaki örneği enumerate methodu ile yapın."
   ]
  },
  {
   "cell_type": "code",
   "execution_count": null,
   "metadata": {
    "id": "uKwshjmAQn3G"
   },
   "outputs": [],
   "source": [
    "for index in range(len(meyveler)):\n",
    "\n",
    "    print(\"{}. indexte bulunan meyve: {}\".format(index,meyveler[index]))"
   ]
  },
  {
   "cell_type": "code",
   "execution_count": 3,
   "metadata": {},
   "outputs": [
    {
     "name": "stdout",
     "output_type": "stream",
     "text": [
      "0. indexte bulunan meyve: elma\n",
      "1. indexte bulunan meyve: armut\n",
      "2. indexte bulunan meyve: karpuz\n",
      "3. indexte bulunan meyve: kavun\n",
      "4. indexte bulunan meyve: muz\n",
      "5. indexte bulunan meyve: kivi\n"
     ]
    }
   ],
   "source": [
    "meyveler = [\"elma\" , \"armut\" , \"karpuz\" , \"kavun\" , \"muz\" , \"kivi\"]\n",
    "\n",
    "for index, meyve in enumerate(meyveler):\n",
    "    print(f\"{index}. indexte bulunan meyve: {meyve}\")\n"
   ]
  },
  {
   "cell_type": "markdown",
   "metadata": {
    "id": "M_DfcqxXQubL"
   },
   "source": [
    "## Sozluk"
   ]
  },
  {
   "cell_type": "markdown",
   "metadata": {
    "id": "ZMXFFucEQxxD"
   },
   "source": [
    "1. Bir sözlük oluşturulur ve bu sözlükte öğrencilerin isimleri ve Matematik, Fizik, Kimya notları tutulur. Kullanıcıdan isim ve ders ismi(Matematik, Fizik, Kimya) istenir ve bu bilgilere göre çıktı verilir."
   ]
  },
  {
   "cell_type": "markdown",
   "metadata": {
    "id": "8NJYTepzQ13V"
   },
   "source": [
    "2. Sözlük üzerinde değerleri değiştirme, yeni değer ekleme, kullanıcıya ulaşmak istediği bilgileri sorma gibi uygulamalar yapın."
   ]
  },
  {
   "cell_type": "code",
   "execution_count": 5,
   "metadata": {
    "id": "Sl7EK7FDQsW1"
   },
   "outputs": [
    {
     "name": "stdin",
     "output_type": "stream",
     "text": [
      "Bilgilerini görmek istediginiz ogrencinin adini giriniz= Elif\n",
      "Ogrenmek istediginiz dersin adini giriniz= Fizik\n"
     ]
    },
    {
     "name": "stdout",
     "output_type": "stream",
     "text": [
      "Elif ogrencisinin Fizik notu: 85\n"
     ]
    }
   ],
   "source": [
    "notlar = {\n",
    "    \"Elif\": {\"Matematik\": 95, \"Fizik\": 85, \"Kimya\": 90},\n",
    "    \"Sila\": {\"Matematik\": 100, \"Fizik\": 50, \"Kimya\": 45},\n",
    "    \"Ela\": {\"Matematik\": 90, \"Fizik\": 60, \"Kimya\": 65}\n",
    "}\n",
    "\n",
    "isim = input(\"Bilgilerini görmek istediginiz ogrencinin adini giriniz=\")\n",
    "ders = input(\"Ogrenmek istediginiz dersin adini giriniz=\")\n",
    "\n",
    "if isim in notlar:\n",
    "    if ders in notlar[isim]:\n",
    "        print(f\"{isim} ogrencisinin {ders} notu: {notlar[isim][ders]}\")\n",
    "    else:\n",
    "        print(\"Girdiginiz ders bulunamadi\")\n",
    "else:\n",
    "    print(\"Girdiginiz isimde ogrenci bulunamadi\")"
   ]
  },
  {
   "cell_type": "code",
   "execution_count": 10,
   "metadata": {},
   "outputs": [
    {
     "name": "stdin",
     "output_type": "stream",
     "text": [
      "Ogrenci adini giriniz= Ela\n",
      "Ders adini giriniz= Fizik\n"
     ]
    },
    {
     "name": "stdout",
     "output_type": "stream",
     "text": [
      "Ela adli ogrencinin Fizik notu: 60\n",
      "Sila'nin yeni Kimya notu= 50\n",
      "Zeynep eklendi= {'Matematik': 70, 'Fizik': 60, 'Kimya': 85}\n",
      "Elif'nin yeni ders notlari= {'Matematik': 95, 'Fizik': 85, 'Kimya': 90, 'Biyoloji': 100}\n"
     ]
    }
   ],
   "source": [
    "notlar = {\n",
    "    \"Elif\": {\"Matematik\": 95, \"Fizik\": 85, \"Kimya\": 90},\n",
    "    \"Sila\": {\"Matematik\": 100, \"Fizik\": 50, \"Kimya\": 45},\n",
    "    \"Ela\": {\"Matematik\": 90, \"Fizik\": 60, \"Kimya\": 65}\n",
    "}\n",
    "\n",
    "isim = input(\"Ogrenci adini giriniz=\")\n",
    "ders = input(\"Ders adini giriniz=\")\n",
    "\n",
    "if isim in notlar and ders in notlar[isim]:\n",
    "    print(f\"{isim} adli ogrencinin {ders} notu: {notlar[isim][ders]}\")\n",
    "else:\n",
    "    print(\"Bilgi bulunamadi.\")\n",
    "\n",
    "notlar[\"Sila\"][\"Kimya\"] = 50\n",
    "print(\"Sila'nin yeni Kimya notu=\", notlar[\"Sila\"][\"Kimya\"])\n",
    "\n",
    "notlar[\"Zeynep\"] = {\"Matematik\": 70, \"Fizik\": 60, \"Kimya\": 85}\n",
    "print(\"Zeynep eklendi=\", notlar[\"Zeynep\"])\n",
    "\n",
    "notlar[\"Elif\"][\"Biyoloji\"] = 100\n",
    "print(\"Elif'nin yeni ders notlari=\", notlar[\"Elif\"])\n"
   ]
  },
  {
   "cell_type": "code",
   "execution_count": null,
   "metadata": {},
   "outputs": [],
   "source": []
  }
 ],
 "metadata": {
  "colab": {
   "provenance": []
  },
  "kernelspec": {
   "display_name": "Python 3 (ipykernel)",
   "language": "python",
   "name": "python3"
  },
  "language_info": {
   "codemirror_mode": {
    "name": "ipython",
    "version": 3
   },
   "file_extension": ".py",
   "mimetype": "text/x-python",
   "name": "python",
   "nbconvert_exporter": "python",
   "pygments_lexer": "ipython3",
   "version": "3.13.5"
  }
 },
 "nbformat": 4,
 "nbformat_minor": 4
}
