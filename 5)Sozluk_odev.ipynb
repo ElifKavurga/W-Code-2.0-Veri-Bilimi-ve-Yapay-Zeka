{
 "cells": [
  {
   "cell_type": "code",
   "execution_count": 4,
   "id": "f1fc5cd7-c3d4-43ff-8488-85fe84592c75",
   "metadata": {},
   "outputs": [
    {
     "name": "stdout",
     "output_type": "stream",
     "text": [
      "---- MENU ----\n",
      "1)Ders ekleme\n",
      "2)Not girme / guncelleme\n",
      "3)Yeni ogrenci ekleme\n",
      "4)Ogrenci silme\n",
      "5)Ogrenci bilgisi getirme\n",
      "6)Tum ogrencileri goster\n",
      "7)Cikis\n"
     ]
    },
    {
     "name": "stdin",
     "output_type": "stream",
     "text": [
      "Yapmak istediginiz islemi giriniz:  3\n",
      "Yeni ogrenci adi:  Zeynep\n"
     ]
    },
    {
     "name": "stdout",
     "output_type": "stream",
     "text": [
      "Zeynep eklendi.\n",
      "---- MENU ----\n",
      "1)Ders ekleme\n",
      "2)Not girme / guncelleme\n",
      "3)Yeni ogrenci ekleme\n",
      "4)Ogrenci silme\n",
      "5)Ogrenci bilgisi getirme\n",
      "6)Tum ogrencileri goster\n",
      "7)Cikis\n"
     ]
    },
    {
     "name": "stdin",
     "output_type": "stream",
     "text": [
      "Yapmak istediginiz islemi giriniz:  1\n",
      "Ogrenci adi= Zeynep\n",
      "Eklenecek ders adi= Biyoloji\n",
      "Dersin notu= 67\n"
     ]
    },
    {
     "name": "stdout",
     "output_type": "stream",
     "text": [
      "Zeynep icin ders eklendi.\n",
      "---- MENU ----\n",
      "1)Ders ekleme\n",
      "2)Not girme / guncelleme\n",
      "3)Yeni ogrenci ekleme\n",
      "4)Ogrenci silme\n",
      "5)Ogrenci bilgisi getirme\n",
      "6)Tum ogrencileri goster\n",
      "7)Cikis\n"
     ]
    },
    {
     "name": "stdin",
     "output_type": "stream",
     "text": [
      "Yapmak istediginiz islemi giriniz:  6\n"
     ]
    },
    {
     "name": "stdout",
     "output_type": "stream",
     "text": [
      "Elif : {'Matematik': 95, 'Fizik': 85, 'Kimya': 90}\n",
      "Sila : {'Matematik': 100, 'Fizik': 50, 'Kimya': 45}\n",
      "Ela : {'Matematik': 90, 'Fizik': 60, 'Kimya': 65}\n",
      "Zeynep : {'Biyoloji': 67}\n",
      "---- MENU ----\n",
      "1)Ders ekleme\n",
      "2)Not girme / guncelleme\n",
      "3)Yeni ogrenci ekleme\n",
      "4)Ogrenci silme\n",
      "5)Ogrenci bilgisi getirme\n",
      "6)Tum ogrencileri goster\n",
      "7)Cikis\n"
     ]
    },
    {
     "name": "stdin",
     "output_type": "stream",
     "text": [
      "Yapmak istediginiz islemi giriniz:  7\n"
     ]
    },
    {
     "name": "stdout",
     "output_type": "stream",
     "text": [
      "Program sonlandirildi.\n"
     ]
    }
   ],
   "source": [
    "notlar = {\n",
    "    \"Elif\": {\"Matematik\": 95, \"Fizik\": 85, \"Kimya\": 90},\n",
    "    \"Sila\": {\"Matematik\": 100, \"Fizik\": 50, \"Kimya\": 45},\n",
    "    \"Ela\": {\"Matematik\": 90, \"Fizik\": 60, \"Kimya\": 65}\n",
    "}\n",
    "\n",
    "while True:\n",
    "    print(\"---- MENU ----\")\n",
    "    print(\"1)Ders ekleme\")\n",
    "    print(\"2)Not girme / guncelleme\")\n",
    "    print(\"3)Yeni ogrenci ekleme\")\n",
    "    print(\"4)Ogrenci silme\")\n",
    "    print(\"5)Ogrenci bilgisi getirme\")\n",
    "    print(\"6)Tum ogrencileri goster\")\n",
    "    print(\"7)Cikis\")\n",
    "\n",
    "    secim = input(\"Yapmak istediginiz islemi giriniz: \")\n",
    "\n",
    "    if secim == \"1\":\n",
    "        isim = input(\"Ogrenci adi=\")\n",
    "        if isim in notlar:\n",
    "            ders = input(\"Eklenecek ders adi=\")\n",
    "            puan = int(input(\"Dersin notu=\"))\n",
    "            notlar[isim][ders] = puan\n",
    "            print(isim, \"icin ders eklendi.\")\n",
    "        else:\n",
    "            print(\"Ogrenci bulunamadi.\")\n",
    "\n",
    "    elif secim == \"2\":\n",
    "        isim = input(\"Ogrenci adi=\")\n",
    "        if isim in notlar:\n",
    "            ders = input(\"Ders adi=\")\n",
    "            puan = int(input(\"Yeni not=\"))\n",
    "            notlar[isim][ders] = puan\n",
    "            print(isim, \"icin not guncellendi.\")\n",
    "        else:\n",
    "            print(\"Ogrenci bulunamadi.\")\n",
    "\n",
    "    elif secim == \"3\":\n",
    "        isim = input(\"Yeni ogrenci adi: \")\n",
    "        notlar[isim] = {}\n",
    "        print(isim, \"eklendi.\")\n",
    "\n",
    "    elif secim == \"4\":\n",
    "        isim = input(\"Silinecek ogrenci adi=\")\n",
    "        if isim in notlar:\n",
    "            del notlar[isim]\n",
    "            print(isim, \"silindi.\")\n",
    "        else:\n",
    "            print(\"Ogrenci bulunamadi.\")\n",
    "\n",
    "    elif secim == \"5\":\n",
    "        isim = input(\"Ogrenci adi=\")\n",
    "        if isim in notlar:\n",
    "            print(\"1)Matematik\")\n",
    "            print(\"2)Fizik\")\n",
    "            print(\"3)Kimya\")\n",
    "            print(\"4)Tum dersler\")\n",
    "            altsecim = input(\"Secim yapiniz=\")\n",
    "            if altsecim == \"1\":\n",
    "                print(\"Matematik:\", notlar[isim].get(\"Matematik\", \"Yok\"))\n",
    "            elif altsecim == \"2\":\n",
    "                print(\"Fizik:\", notlar[isim].get(\"Fizik\", \"Yok\"))\n",
    "            elif altsecim == \"3\":\n",
    "                print(\"Kimya:\", notlar[isim].get(\"Kimya\", \"Yok\"))\n",
    "            elif altsecim == \"4\":\n",
    "                print(isim, \"tum notlari:\", notlar[isim])\n",
    "            else:\n",
    "                print(\"Hatali secim.\")\n",
    "        else:\n",
    "            print(\"Ogrenci bulunamadi.\")\n",
    "\n",
    "    elif secim == \"6\":\n",
    "        for k, v in notlar.items():\n",
    "            print(k, \":\", v)\n",
    "\n",
    "    elif secim == \"7\":\n",
    "        print(\"Program sonlandirildi.\")\n",
    "        break\n",
    "\n",
    "    else:\n",
    "        print(\"Hatali secim.\")\n"
   ]
  },
  {
   "cell_type": "code",
   "execution_count": null,
   "id": "219ab30e-d898-4d90-aca1-b5f826d0d29c",
   "metadata": {},
   "outputs": [],
   "source": []
  }
 ],
 "metadata": {
  "kernelspec": {
   "display_name": "Python 3 (ipykernel)",
   "language": "python",
   "name": "python3"
  },
  "language_info": {
   "codemirror_mode": {
    "name": "ipython",
    "version": 3
   },
   "file_extension": ".py",
   "mimetype": "text/x-python",
   "name": "python",
   "nbconvert_exporter": "python",
   "pygments_lexer": "ipython3",
   "version": "3.13.5"
  }
 },
 "nbformat": 4,
 "nbformat_minor": 5
}
