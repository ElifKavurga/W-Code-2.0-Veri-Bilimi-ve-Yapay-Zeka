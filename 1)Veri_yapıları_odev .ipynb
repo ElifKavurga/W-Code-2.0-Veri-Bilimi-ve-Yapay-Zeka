{
 "cells": [
  {
   "cell_type": "markdown",
   "id": "e3676c18-2c18-42f3-9f14-5ec8c7c2e50e",
   "metadata": {},
   "source": [
    "# 1\n",
    "x = 3 ----> floata çevirelim. Çevirdikten sonra veri tipinide yazdıralım.\n",
    "\n",
    "y = 4.5 -----> integere çevirelim. Çevirdikten sonra veri tipinide yazdıralım.\n",
    "\n",
    "z = \"8\" -----> integera çevirelim. Çevirdikten sonra veri tipinide yazdıralım.\n",
    "\n",
    "a = \"12\" -----> floata çevirelim. Çevirdikten sonra veri tipinide yazdıralım.\n",
    "\n",
    "b = \"46.8\" ------> integera çevirelim. Çevirdikten sonra veri tipinide yazdıralım."
   ]
  },
  {
   "cell_type": "code",
   "execution_count": 2,
   "id": "f1b735c0",
   "metadata": {},
   "outputs": [
    {
     "name": "stdout",
     "output_type": "stream",
     "text": [
      "<class 'float'>\n"
     ]
    }
   ],
   "source": [
    "x=3\n",
    "x = float(x)\n",
    "print(type(x))"
   ]
  },
  {
   "cell_type": "code",
   "execution_count": 1,
   "id": "b450bdd6-93d8-497a-aa67-6e91563180fa",
   "metadata": {},
   "outputs": [
    {
     "name": "stdout",
     "output_type": "stream",
     "text": [
      "<class 'int'>\n"
     ]
    }
   ],
   "source": [
    "y=4.5\n",
    "y = int(y)\n",
    "print(type(y))"
   ]
  },
  {
   "cell_type": "code",
   "execution_count": 4,
   "id": "153633db-34b0-4b43-b0bb-92ffbecf3bbf",
   "metadata": {},
   "outputs": [
    {
     "name": "stdout",
     "output_type": "stream",
     "text": [
      "<class 'int'>\n"
     ]
    }
   ],
   "source": [
    "z = \"8\"\n",
    "z = int(z)\n",
    "print(type(z))"
   ]
  },
  {
   "cell_type": "code",
   "execution_count": 5,
   "id": "ebeb9d60-5700-4e7a-871d-ab4470171056",
   "metadata": {},
   "outputs": [
    {
     "name": "stdout",
     "output_type": "stream",
     "text": [
      "<class 'float'>\n"
     ]
    }
   ],
   "source": [
    "a = \"12\"\n",
    "a = float(a)\n",
    "print(type(a))"
   ]
  },
  {
   "cell_type": "code",
   "execution_count": 6,
   "id": "b71f2558-057e-442b-89f8-a247a5630071",
   "metadata": {},
   "outputs": [
    {
     "name": "stdout",
     "output_type": "stream",
     "text": [
      "<class 'int'>\n"
     ]
    }
   ],
   "source": [
    "b = \"46.8\"\n",
    "b = int(float(b))\n",
    "print(type(b))"
   ]
  },
  {
   "cell_type": "markdown",
   "id": "90a1de0d-aaaa-4890-a5e1-81aac4e5c52e",
   "metadata": {},
   "source": [
    "# 2 \n",
    "İsimlerden oluşan üç değişkene yaş değerleri atanır. Belirlenen üç değişken birbiriyle karşılaştırma operatörleri ile karşılaştırılır. Bu karşılaştırmalara mantıksal operatörler de eklenir."
   ]
  },
  {
   "cell_type": "code",
   "execution_count": 2,
   "id": "50f77b4f",
   "metadata": {},
   "outputs": [],
   "source": [
    "sila = 18\n",
    "ela = 9\n",
    "elf = 21"
   ]
  },
  {
   "cell_type": "code",
   "execution_count": 3,
   "id": "3a3b30b8-6f2e-458c-a1d8-a75e045b6d73",
   "metadata": {},
   "outputs": [
    {
     "data": {
      "text/plain": [
       "True"
      ]
     },
     "execution_count": 3,
     "metadata": {},
     "output_type": "execute_result"
    }
   ],
   "source": [
    "elf > sila"
   ]
  },
  {
   "cell_type": "code",
   "execution_count": 4,
   "id": "cdf0087e-4df9-4d0e-8632-f786525d6423",
   "metadata": {},
   "outputs": [
    {
     "data": {
      "text/plain": [
       "False"
      ]
     },
     "execution_count": 4,
     "metadata": {},
     "output_type": "execute_result"
    }
   ],
   "source": [
    "sila < ela"
   ]
  },
  {
   "cell_type": "code",
   "execution_count": 5,
   "id": "f6f20004-39b9-4201-a572-ca42369a89f9",
   "metadata": {},
   "outputs": [
    {
     "data": {
      "text/plain": [
       "False"
      ]
     },
     "execution_count": 5,
     "metadata": {},
     "output_type": "execute_result"
    }
   ],
   "source": [
    "elf > sila and sila < ela"
   ]
  },
  {
   "cell_type": "code",
   "execution_count": 7,
   "id": "9ebc702c-35b0-4fc8-87c5-e34fbb4802f9",
   "metadata": {},
   "outputs": [
    {
     "data": {
      "text/plain": [
       "True"
      ]
     },
     "execution_count": 7,
     "metadata": {},
     "output_type": "execute_result"
    }
   ],
   "source": [
    "elf < sila or ela < elf"
   ]
  },
  {
   "cell_type": "markdown",
   "id": "a1a0eb92",
   "metadata": {},
   "source": [
    "# 3\n",
    "Kullanıcıdan iki değer girmesini istenir. Girilen değerlerin toplama, çıkarma, çarpma, bölme sonuçlarını yazdırılır."
   ]
  },
  {
   "cell_type": "code",
   "execution_count": 12,
   "id": "c361e45a",
   "metadata": {},
   "outputs": [
    {
     "name": "stdin",
     "output_type": "stream",
     "text": [
      "Birinci sayiyi giriniz 2\n",
      "Ikinci sayiyi giriniz 5\n"
     ]
    },
    {
     "name": "stdout",
     "output_type": "stream",
     "text": [
      "Toplam=  7.0\n",
      "Fark=  -3.0\n",
      "Carpim=  10.0\n",
      "Bolum=  0.4\n"
     ]
    }
   ],
   "source": [
    "sayi1 = float (input(\"Birinci sayiyi giriniz\"))\n",
    "sayi2 = float (input(\"Ikinci sayiyi giriniz\"))\n",
    "\n",
    "toplam = sayi1 + sayi2\n",
    "fark = sayi1 - sayi2\n",
    "carpim = sayi1* sayi2\n",
    "bolum = sayi1 / sayi2\n",
    "\n",
    "print(\"Toplam= \",toplam)\n",
    "print(\"Fark= \", fark)\n",
    "print(\"Carpim= \",carpim)\n",
    "print(\"Bolum= \", bolum)"
   ]
  },
  {
   "cell_type": "markdown",
   "id": "1c2ff9ce-1791-44f1-bff3-56d52291a874",
   "metadata": {},
   "source": [
    "# 4\n",
    "Kullanıcıdan isim, yaş, şehir ve meslek bilgilerini istenir ve cevaplarını yazdırılır."
   ]
  },
  {
   "cell_type": "code",
   "execution_count": 13,
   "id": "21ec0df9-5c75-41ec-b832-b9e9bee07c3b",
   "metadata": {},
   "outputs": [
    {
     "name": "stdin",
     "output_type": "stream",
     "text": [
      "Isminizi giriniz= elif\n",
      "Yasinizi giriniz= 21\n",
      "Sehir giriniz= malatya\n",
      "Mesleğinizi giriniz= yazılım mühendisi\n"
     ]
    },
    {
     "name": "stdout",
     "output_type": "stream",
     "text": [
      "isim= elif\n",
      "Yas= 21\n",
      "Sehir= malatya\n",
      "Meslek= yazılım mühendisi\n"
     ]
    }
   ],
   "source": [
    "isim = input(\"Isminizi giriniz=\")\n",
    "yas = input(\"Yasinizi giriniz=\")\n",
    "sehir = input(\"Sehir giriniz=\")\n",
    "meslek = input(\"Mesleğinizi giriniz=\")\n",
    "\n",
    "print(\"isim=\", isim)\n",
    "print(\"Yas=\", yas)\n",
    "print(\"Sehir=\", sehir)\n",
    "print(\"Meslek=\", meslek)"
   ]
  },
  {
   "cell_type": "markdown",
   "id": "9c32ef83-100c-4fa8-a86d-f28b7dd31766",
   "metadata": {},
   "source": [
    "# 5\n",
    "\"Hi-Kod Veri Bilimi Atölyesi\" ifadesini bir değişkene tanımlanır.\n",
    "\n",
    "\n",
    " 1. İfadedeki her bir kelimeyi (\"Hi-Kod\", \"Veri\", \"Bilimi\", \"Atölyesi\") değişken içinden seçilir. \n",
    " 2. İfadeyi hepsini büyük harf olacak hale çevrilir. (\"HI-KOD VERİ BİLİMİ ATÖLYESİ\") \n",
    " 3. İfadeyi hepsini büyük harf olacak hale çevrilir.(\"hi-kod veri bilimi atölyesi\") \n",
    "\n",
    "\"0123456789\" ifadesindeki yalnızca çift sayıları ve yalnızca tek sayıları seçilir. (\"02468\", \"13579\")"
   ]
  },
  {
   "cell_type": "code",
   "execution_count": 14,
   "id": "0fc1bc40",
   "metadata": {},
   "outputs": [
    {
     "data": {
      "text/plain": [
       "['Hi-Kod', 'Veri', 'Bilimi', 'Atolyesi']"
      ]
     },
     "execution_count": 14,
     "metadata": {},
     "output_type": "execute_result"
    }
   ],
   "source": [
    "ifade = \"Hi-Kod Veri Bilimi Atolyesi\"\n",
    "ifade.split()"
   ]
  },
  {
   "cell_type": "code",
   "execution_count": 15,
   "id": "782933bd-1cf1-4460-9700-7538ac05975f",
   "metadata": {},
   "outputs": [
    {
     "data": {
      "text/plain": [
       "'HI-KOD VERI BILIMI ATOLYESI'"
      ]
     },
     "execution_count": 15,
     "metadata": {},
     "output_type": "execute_result"
    }
   ],
   "source": [
    "ifade.upper()"
   ]
  },
  {
   "cell_type": "code",
   "execution_count": 16,
   "id": "71484f1b-ca22-4645-a0c5-205627a19443",
   "metadata": {},
   "outputs": [
    {
     "data": {
      "text/plain": [
       "'hi-kod veri bilimi atolyesi'"
      ]
     },
     "execution_count": 16,
     "metadata": {},
     "output_type": "execute_result"
    }
   ],
   "source": [
    "ifade.lower()"
   ]
  },
  {
   "cell_type": "code",
   "execution_count": 17,
   "id": "b3faf531-c396-405d-813c-774d4c8c5996",
   "metadata": {},
   "outputs": [],
   "source": [
    "rakamlar = \"0123456789\""
   ]
  },
  {
   "cell_type": "code",
   "execution_count": 19,
   "id": "365b5d1a-040c-42c0-9f70-d47a99e007ba",
   "metadata": {},
   "outputs": [
    {
     "data": {
      "text/plain": [
       "'02468'"
      ]
     },
     "execution_count": 19,
     "metadata": {},
     "output_type": "execute_result"
    }
   ],
   "source": [
    "rakamlar[0::2]"
   ]
  },
  {
   "cell_type": "code",
   "execution_count": 20,
   "id": "4f790ddc-0ad0-486e-8c13-f92af3a66eb5",
   "metadata": {},
   "outputs": [
    {
     "data": {
      "text/plain": [
       "'13579'"
      ]
     },
     "execution_count": 20,
     "metadata": {},
     "output_type": "execute_result"
    }
   ],
   "source": [
    "rakamlar[1::2]"
   ]
  },
  {
   "cell_type": "code",
   "execution_count": null,
   "id": "d6bf2817-e190-4978-a60d-34552d9c41cc",
   "metadata": {},
   "outputs": [],
   "source": []
  }
 ],
 "metadata": {
  "kernelspec": {
   "display_name": "Python 3 (ipykernel)",
   "language": "python",
   "name": "python3"
  },
  "language_info": {
   "codemirror_mode": {
    "name": "ipython",
    "version": 3
   },
   "file_extension": ".py",
   "mimetype": "text/x-python",
   "name": "python",
   "nbconvert_exporter": "python",
   "pygments_lexer": "ipython3",
   "version": "3.13.5"
  }
 },
 "nbformat": 4,
 "nbformat_minor": 5
}
